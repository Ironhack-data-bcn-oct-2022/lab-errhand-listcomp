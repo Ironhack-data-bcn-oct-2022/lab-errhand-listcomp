{
 "cells": [
  {
   "cell_type": "code",
   "execution_count": 3,
   "id": "dcdaa81b",
   "metadata": {},
   "outputs": [],
   "source": [
    "list_of_lists = [['40', '20', '10', '30'], ['20', '20', '20', '20', '20', '30', '20'], \\\n",
    "['30', '20', '30', '50', '10', '30', '20', '20', '20'], ['100', '100'], ['100', '100', '100', '100', '100'], \\\n",
    "['100', '100', '100', '100']]"
   ]
  },
  {
   "cell_type": "code",
   "execution_count": 4,
   "id": "98c84f68",
   "metadata": {},
   "outputs": [
    {
     "name": "stdout",
     "output_type": "stream",
     "text": [
      "[[40.0, 20.0, 10.0, 30.0], [20.0, 20.0, 20.0, 20.0, 20.0, 30.0, 20.0], [30.0, 20.0, 30.0, 50.0, 10.0, 30.0, 20.0, 20.0, 20.0], [100.0, 100.0], [100.0, 100.0, 100.0, 100.0, 100.0], [100.0, 100.0, 100.0, 100.0]]\n"
     ]
    }
   ],
   "source": [
    "floats = [[float(num) for num in list_] for list_ in list_of_lists]\n",
    "print(floats)"
   ]
  }
 ],
 "metadata": {
  "kernelspec": {
   "display_name": "Python 3 (ipykernel)",
   "language": "python",
   "name": "python3"
  },
  "language_info": {
   "codemirror_mode": {
    "name": "ipython",
    "version": 3
   },
   "file_extension": ".py",
   "mimetype": "text/x-python",
   "name": "python",
   "nbconvert_exporter": "python",
   "pygments_lexer": "ipython3",
   "version": "3.9.12"
  }
 },
 "nbformat": 4,
 "nbformat_minor": 5
}
